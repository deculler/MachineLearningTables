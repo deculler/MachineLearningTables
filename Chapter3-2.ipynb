{
 "cells": [
  {
   "cell_type": "markdown",
   "metadata": {},
   "source": [
    "# Chapter 3-2 Multiple Linear Regression\n",
    "\n",
    "Concepts and data from \"An Introduction to Statistical Learning, with applications in R\"  (Springer, 2013) with permission from the authors: G. James, D. Witten,  T. Hastie and R. Tibshirani \" available at [www.StatLearning.com](http://www.StatLearning.com).\n",
    "\n",
    "For Tables reference see [http://data8.org/datascience/tables.html](http://data8.org/datascience/tables.html)"
   ]
  },
  {
   "cell_type": "code",
   "execution_count": 1,
   "metadata": {
    "collapsed": false
   },
   "outputs": [
    {
     "data": {
      "text/plain": [
       "'en_US.UTF-8'"
      ]
     },
     "execution_count": 1,
     "metadata": {},
     "output_type": "execute_result"
    }
   ],
   "source": [
    "# HIDDEN\n",
    "# For Tables reference see http://data8.org/datascience/tables.html\n",
    "# This useful nonsense should just go at the top of your notebook.\n",
    "from datascience import *\n",
    "%matplotlib inline\n",
    "import matplotlib.pyplot as plots\n",
    "import numpy as np\n",
    "from sklearn import linear_model\n",
    "plots.style.use('fivethirtyeight')\n",
    "plots.rc('lines', linewidth=1, color='r')\n",
    "from ipywidgets import interact, interactive, fixed\n",
    "import ipywidgets as widgets\n",
    "# datascience version number of last run of this notebook\n",
    "version.__version__\n",
    "\n",
    "\n",
    "import sys\n",
    "sys.path.append(\"..\")\n",
    "from ml_table import ML_Table\n",
    "\n",
    "import locale\n",
    "locale.setlocale( locale.LC_ALL, 'en_US.UTF-8' ) "
   ]
  },
  {
   "cell_type": "code",
   "execution_count": 2,
   "metadata": {
    "collapsed": false
   },
   "outputs": [
    {
     "data": {
      "text/html": [
       "<table border=\"1\" class=\"dataframe\">\n",
       "    <thead>\n",
       "        <tr>\n",
       "            <th>TV</th> <th>Radio</th> <th>Newspaper</th> <th>Sales</th>\n",
       "        </tr>\n",
       "    </thead>\n",
       "    <tbody>\n",
       "        <tr>\n",
       "            <td>230.1</td> <td>37.8 </td> <td>69.2     </td> <td>22.1 </td>\n",
       "        </tr>\n",
       "    </tbody>\n",
       "        <tr>\n",
       "            <td>44.5 </td> <td>39.3 </td> <td>45.1     </td> <td>10.4 </td>\n",
       "        </tr>\n",
       "    </tbody>\n",
       "        <tr>\n",
       "            <td>17.2 </td> <td>45.9 </td> <td>69.3     </td> <td>9.3  </td>\n",
       "        </tr>\n",
       "    </tbody>\n",
       "        <tr>\n",
       "            <td>151.5</td> <td>41.3 </td> <td>58.5     </td> <td>18.5 </td>\n",
       "        </tr>\n",
       "    </tbody>\n",
       "        <tr>\n",
       "            <td>180.8</td> <td>10.8 </td> <td>58.4     </td> <td>12.9 </td>\n",
       "        </tr>\n",
       "    </tbody>\n",
       "        <tr>\n",
       "            <td>8.7  </td> <td>48.9 </td> <td>75       </td> <td>7.2  </td>\n",
       "        </tr>\n",
       "    </tbody>\n",
       "        <tr>\n",
       "            <td>57.5 </td> <td>32.8 </td> <td>23.5     </td> <td>11.8 </td>\n",
       "        </tr>\n",
       "    </tbody>\n",
       "        <tr>\n",
       "            <td>120.2</td> <td>19.6 </td> <td>11.6     </td> <td>13.2 </td>\n",
       "        </tr>\n",
       "    </tbody>\n",
       "        <tr>\n",
       "            <td>8.6  </td> <td>2.1  </td> <td>1        </td> <td>4.8  </td>\n",
       "        </tr>\n",
       "    </tbody>\n",
       "        <tr>\n",
       "            <td>199.8</td> <td>2.6  </td> <td>21.2     </td> <td>10.6 </td>\n",
       "        </tr>\n",
       "    </tbody>\n",
       "</table>\n",
       "<p>... (190 rows omitted)</p"
      ],
      "text/plain": [
       "TV    | Radio | Newspaper | Sales\n",
       "230.1 | 37.8  | 69.2      | 22.1\n",
       "44.5  | 39.3  | 45.1      | 10.4\n",
       "17.2  | 45.9  | 69.3      | 9.3\n",
       "151.5 | 41.3  | 58.5      | 18.5\n",
       "180.8 | 10.8  | 58.4      | 12.9\n",
       "8.7   | 48.9  | 75        | 7.2\n",
       "57.5  | 32.8  | 23.5      | 11.8\n",
       "120.2 | 19.6  | 11.6      | 13.2\n",
       "8.6   | 2.1   | 1         | 4.8\n",
       "199.8 | 2.6   | 21.2      | 10.6\n",
       "... (190 rows omitted)"
      ]
     },
     "execution_count": 2,
     "metadata": {},
     "output_type": "execute_result"
    }
   ],
   "source": [
    "# Getting the data\n",
    "advertising = ML_Table.read_table(\"./data/Advertising.csv\")\n",
    "advertising = advertising.drop(0)\n",
    "advertising"
   ]
  },
  {
   "cell_type": "markdown",
   "metadata": {
    "collapsed": true
   },
   "source": [
    "## 3.2.1 Estimating the Regression Coefficients\n",
    "\n",
    "The multiple linear regression model takes the form\n",
    "\n",
    "$Y = β_0 + β_1X_1 +···+β_{p}X_{p} + ε$,\n",
    "\n",
    "where $X_j$ represents the jth predictor and $β_j$ quantifies the association between that variable and the response. We interpret βj as the average effect on Y of a one unit increase in Xj, holding all other predictors fixed.\n",
    "\n",
    "In the advertising example, this becomes\n",
    "$sales=  β0 + β1×TV + β2×radio + β3×newspaper + ε$."
   ]
  },
  {
   "cell_type": "code",
   "execution_count": 3,
   "metadata": {
    "collapsed": false
   },
   "outputs": [
    {
     "data": {
      "text/plain": [
       "(2.9388893694594085, array([ 0.04576465,  0.18853002, -0.00103749]))"
      ]
     },
     "execution_count": 3,
     "metadata": {},
     "output_type": "execute_result"
    }
   ],
   "source": [
    "advertising.regression_params('Sales')"
   ]
  },
  {
   "cell_type": "code",
   "execution_count": 4,
   "metadata": {
    "collapsed": true
   },
   "outputs": [],
   "source": [
    "adver_model = advertising.regression('Sales')"
   ]
  },
  {
   "cell_type": "code",
   "execution_count": 5,
   "metadata": {
    "collapsed": false
   },
   "outputs": [
    {
     "data": {
      "text/plain": [
       "2.9388893694594085"
      ]
     },
     "execution_count": 5,
     "metadata": {},
     "output_type": "execute_result"
    }
   ],
   "source": [
    "adver_model(0,0,0)"
   ]
  },
  {
   "cell_type": "markdown",
   "metadata": {},
   "source": [
    "### Visualizing a 2D regression"
   ]
  },
  {
   "cell_type": "code",
   "execution_count": 6,
   "metadata": {
    "collapsed": false
   },
   "outputs": [
    {
     "data": {
      "text/html": [
       "<table border=\"1\" class=\"dataframe\">\n",
       "    <thead>\n",
       "        <tr>\n",
       "            <th>Param</th> <th>Coefficient</th> <th>Std Error</th> <th>t-statistic</th> <th>95% CI</th> <th>99% CI</th>\n",
       "        </tr>\n",
       "    </thead>\n",
       "    <tbody>\n",
       "        <tr>\n",
       "            <td>Intercept</td> <td>2.9211     </td> <td>0.29449   </td> <td>9.91919    </td> <td>[ 2.33212056  3.51007927]</td> <td>[ 2.03763088  3.80456895]</td>\n",
       "        </tr>\n",
       "    </tbody>\n",
       "        <tr>\n",
       "            <td>TV       </td> <td>0.0457548  </td> <td>0.00139036</td> <td>32.9087    </td> <td>[ 0.0429741   0.04853553]</td> <td>[ 0.04158375  0.04992588]</td>\n",
       "        </tr>\n",
       "    </tbody>\n",
       "        <tr>\n",
       "            <td>Radio    </td> <td>0.187994   </td> <td>0.00803997</td> <td>23.3824    </td> <td>[ 0.17191428  0.20407417]</td> <td>[ 0.16387431  0.21211414]</td>\n",
       "        </tr>\n",
       "    </tbody>\n",
       "</table>"
      ],
      "text/plain": [
       "Param     | Coefficient | Std Error  | t-statistic | 95% CI                    | 99% CI\n",
       "Intercept | 2.9211      | 0.29449    | 9.91919     | [ 2.33212056  3.51007927] | [ 2.03763088  3.80456895]\n",
       "TV        | 0.0457548   | 0.00139036 | 32.9087     | [ 0.0429741   0.04853553] | [ 0.04158375  0.04992588]\n",
       "Radio     | 0.187994    | 0.00803997 | 23.3824     | [ 0.17191428  0.20407417] | [ 0.16387431  0.21211414]"
      ]
     },
     "execution_count": 6,
     "metadata": {},
     "output_type": "execute_result"
    }
   ],
   "source": [
    "ad2 = advertising.drop('Newspaper')\n",
    "ad2.lm_summary('Sales')"
   ]
  },
  {
   "cell_type": "code",
   "execution_count": 7,
   "metadata": {
    "collapsed": false
   },
   "outputs": [
    {
     "data": {
      "text/plain": [
       "<matplotlib.axes._subplots.Axes3DSubplot at 0x110882d68>"
      ]
     },
     "execution_count": 7,
     "metadata": {},
     "output_type": "execute_result"
    },
    {
     "data": {
      "image/png": "[encoded data removed]",
      "text/plain": [
       "<matplotlib.figure.Figure at 0x10630ba58>"
      ]
     },
     "metadata": {},
     "output_type": "display_data"
    }
   ],
   "source": [
    "# Linear model with two input variables is a plane\n",
    "ad2.plot_fit('Sales', ad2.regression('Sales'), width=8)"
   ]
  },
  {
   "cell_type": "markdown",
   "metadata": {},
   "source": [
    "### Multiple regression inference and goodness of fit\n",
    "\n",
    "At this point \"ISL\" skips over how to compute the standard error of the multiple regression parameters - relying on R to just produce the answer.  It requires some matrix notation and a numerical computation of the matrix inverse, but involves a bunch of standard terminology that is specific to the inference aspect, as opposed to the general notion in linear algebra of approximating a function over a basis.  \n",
    "\n",
    "A nice treatment can be found at this [reference](http://dept.stat.lsa.umich.edu/~kshedden/Courses/Stat401/Notes/401-multreg.pdf)"
   ]
  },
  {
   "cell_type": "code",
   "execution_count": 8,
   "metadata": {
    "collapsed": false
   },
   "outputs": [
    {
     "data": {
      "text/plain": [
       "['TV', 'Radio', 'Newspaper']"
      ]
     },
     "execution_count": 8,
     "metadata": {},
     "output_type": "execute_result"
    }
   ],
   "source": [
    "# response vector\n",
    "Y = advertising['Sales']\n",
    "labels = [lbl for lbl in advertising.labels if lbl != 'Sales']\n",
    "p = len(labels) # number of parameter\n",
    "n = len(Y)  # number of observations\n",
    "labels"
   ]
  },
  {
   "cell_type": "code",
   "execution_count": 9,
   "metadata": {
    "collapsed": false
   },
   "outputs": [
    {
     "data": {
      "text/plain": [
       "Rows(TV    | Radio | Newspaper\n",
       "230.1 | 37.8  | 69.2\n",
       "44.5  | 39.3  | 45.1\n",
       "17.2  | 45.9  | 69.3\n",
       "151.5 | 41.3  | 58.5\n",
       "180.8 | 10.8  | 58.4\n",
       "8.7   | 48.9  | 75\n",
       "57.5  | 32.8  | 23.5\n",
       "120.2 | 19.6  | 11.6\n",
       "8.6   | 2.1   | 1\n",
       "199.8 | 2.6   | 21.2\n",
       "... (190 rows omitted))"
      ]
     },
     "execution_count": 9,
     "metadata": {},
     "output_type": "execute_result"
    }
   ],
   "source": [
    "# Transform the table into a matrix\n",
    "advertising.select(labels).rows"
   ]
  },
  {
   "cell_type": "code",
   "execution_count": 10,
   "metadata": {
    "collapsed": false
   },
   "outputs": [],
   "source": [
    "# Design matrix\n",
    "X = np.array([np.append([1], row) for row in advertising.select(labels).rows])"
   ]
  },
  {
   "cell_type": "code",
   "execution_count": 11,
   "metadata": {
    "collapsed": false
   },
   "outputs": [],
   "source": [
    "# slope vector\n",
    "b0, slopes = advertising.regression_params('Sales')\n",
    "b = np.append([b0], slopes)"
   ]
  },
  {
   "cell_type": "code",
   "execution_count": 12,
   "metadata": {
    "collapsed": false
   },
   "outputs": [
    {
     "data": {
      "text/plain": [
       "((200, 4), (4,))"
      ]
     },
     "execution_count": 12,
     "metadata": {},
     "output_type": "execute_result"
    }
   ],
   "source": [
    "np.shape(X), np.shape(b)"
   ]
  },
  {
   "cell_type": "code",
   "execution_count": 13,
   "metadata": {
    "collapsed": false
   },
   "outputs": [],
   "source": [
    "# residual\n",
    "res = np.dot(X, b) - advertising['Sales']"
   ]
  },
  {
   "cell_type": "code",
   "execution_count": 14,
   "metadata": {
    "collapsed": false
   },
   "outputs": [
    {
     "data": {
      "text/plain": [
       "2.8409452188887103"
      ]
     },
     "execution_count": 14,
     "metadata": {},
     "output_type": "execute_result"
    }
   ],
   "source": [
    "# Variance of the residual\n",
    "sigma2 = sum(res**2)/(n-p-1)\n",
    "sigma2"
   ]
  },
  {
   "cell_type": "code",
   "execution_count": 15,
   "metadata": {
    "collapsed": false
   },
   "outputs": [],
   "source": [
    "Xt = np.transpose(X)"
   ]
  },
  {
   "cell_type": "code",
   "execution_count": 16,
   "metadata": {
    "collapsed": false
   },
   "outputs": [
    {
     "data": {
      "text/plain": [
       "array([[  2.00000000e+02,   2.94085000e+04,   4.65280000e+03,\n",
       "          6.11080000e+03],\n",
       "       [  2.94085000e+04,   5.79111839e+06,   6.98061980e+05,\n",
       "          9.19625280e+05],\n",
       "       [  4.65280000e+03,   6.98061980e+05,   1.52107860e+05,\n",
       "          1.64946550e+05],\n",
       "       [  6.11080000e+03,   9.19625280e+05,   1.64946550e+05,\n",
       "          2.81096740e+05]])"
      ]
     },
     "execution_count": 16,
     "metadata": {},
     "output_type": "execute_result"
    }
   ],
   "source": [
    "# The matrix that needs to be inverted is only p x p\n",
    "np.dot(Xt, X)"
   ]
  },
  {
   "cell_type": "code",
   "execution_count": 17,
   "metadata": {
    "collapsed": false
   },
   "outputs": [
    {
     "data": {
      "text/plain": [
       "(4, 4)"
      ]
     },
     "execution_count": 17,
     "metadata": {},
     "output_type": "execute_result"
    }
   ],
   "source": [
    "np.shape(np.dot(Xt, X))"
   ]
  },
  {
   "cell_type": "code",
   "execution_count": 18,
   "metadata": {
    "collapsed": false
   },
   "outputs": [
    {
     "data": {
      "text/plain": [
       "array([[  9.72867479e-02,  -2.65727337e-04,  -1.11548946e-03,\n",
       "         -5.91021239e-04],\n",
       "       [ -2.65727337e-04,   1.94573710e-06,  -4.47039463e-07,\n",
       "         -3.26595026e-07],\n",
       "       [ -1.11548946e-03,  -4.47039463e-07,   7.41533504e-05,\n",
       "         -1.78006245e-05],\n",
       "       [ -5.91021239e-04,  -3.26595026e-07,  -1.78006245e-05,\n",
       "          3.44687543e-05]])"
      ]
     },
     "execution_count": 18,
     "metadata": {},
     "output_type": "execute_result"
    }
   ],
   "source": [
    "# standard error matrix\n",
    "SEM = sigma2*np.linalg.inv(np.dot(Xt, X))\n",
    "SEM"
   ]
  },
  {
   "cell_type": "code",
   "execution_count": 19,
   "metadata": {
    "collapsed": false
   },
   "outputs": [
    {
     "data": {
      "text/plain": [
       "[0.097286747885370131,\n",
       " 1.945737102108978e-06,\n",
       " 7.4153350439614847e-05,\n",
       " 3.4468754276181203e-05]"
      ]
     },
     "execution_count": 19,
     "metadata": {},
     "output_type": "execute_result"
    }
   ],
   "source": [
    "# variance of the coefficients are the diagonal elements\n",
    "variances = [SEM[i,i] for i in range(len(SEM))]\n",
    "variances"
   ]
  },
  {
   "cell_type": "code",
   "execution_count": 20,
   "metadata": {
    "collapsed": false
   },
   "outputs": [
    {
     "data": {
      "text/plain": [
       "[0.31190823632179088,\n",
       " 0.0013948968069749741,\n",
       " 0.008611233967301948,\n",
       " 0.0058710096470863679]"
      ]
     },
     "execution_count": 20,
     "metadata": {},
     "output_type": "execute_result"
    }
   ],
   "source": [
    "# standard error of the coeficients\n",
    "SE = [np.sqrt(v) for v in variances]\n",
    "SE"
   ]
  },
  {
   "cell_type": "code",
   "execution_count": 21,
   "metadata": {
    "collapsed": false
   },
   "outputs": [
    {
     "data": {
      "text/plain": [
       "array([  9.42228844,  32.80862443,  21.89349606,  -0.17671459])"
      ]
     },
     "execution_count": 21,
     "metadata": {},
     "output_type": "execute_result"
    }
   ],
   "source": [
    "# t-statistics\n",
    "b/SE"
   ]
  },
  {
   "cell_type": "code",
   "execution_count": 22,
   "metadata": {
    "collapsed": false
   },
   "outputs": [
    {
     "data": {
      "text/html": [
       "<table border=\"1\" class=\"dataframe\">\n",
       "    <thead>\n",
       "        <tr>\n",
       "            <th>Param</th> <th>Coefficient</th> <th>Std Error</th> <th>t-statistic</th> <th>95% CI</th> <th>99% CI</th>\n",
       "        </tr>\n",
       "    </thead>\n",
       "    <tbody>\n",
       "        <tr>\n",
       "            <td>Intercept</td> <td>2.93889    </td> <td>0.311908  </td> <td>9.42229    </td> <td>[ 2.3150729   3.56270584]</td> <td>[ 2.00316466  3.87461408]</td>\n",
       "        </tr>\n",
       "    </tbody>\n",
       "        <tr>\n",
       "            <td>TV       </td> <td>0.0457646  </td> <td>0.0013949 </td> <td>32.8086    </td> <td>[ 0.04297485  0.04855444]</td> <td>[ 0.04157996  0.04994934]</td>\n",
       "        </tr>\n",
       "    </tbody>\n",
       "        <tr>\n",
       "            <td>Radio    </td> <td>0.18853    </td> <td>0.00861123</td> <td>21.8935    </td> <td>[ 0.17130755  0.20575248]</td> <td>[ 0.16269632  0.21436372]</td>\n",
       "        </tr>\n",
       "    </tbody>\n",
       "        <tr>\n",
       "            <td>Newspaper</td> <td>-0.00103749</td> <td>0.00587101</td> <td>-0.176715  </td> <td>[-0.01277951  0.01070453]</td> <td>[-0.01865052  0.01657554]</td>\n",
       "        </tr>\n",
       "    </tbody>\n",
       "</table>"
      ],
      "text/plain": [
       "Param     | Coefficient | Std Error  | t-statistic | 95% CI                    | 99% CI\n",
       "Intercept | 2.93889     | 0.311908   | 9.42229     | [ 2.3150729   3.56270584] | [ 2.00316466  3.87461408]\n",
       "TV        | 0.0457646   | 0.0013949  | 32.8086     | [ 0.04297485  0.04855444] | [ 0.04157996  0.04994934]\n",
       "Radio     | 0.18853     | 0.00861123 | 21.8935     | [ 0.17130755  0.20575248] | [ 0.16269632  0.21436372]\n",
       "Newspaper | -0.00103749 | 0.00587101 | -0.176715   | [-0.01277951  0.01070453] | [-0.01865052  0.01657554]"
      ]
     },
     "execution_count": 22,
     "metadata": {},
     "output_type": "execute_result"
    }
   ],
   "source": [
    "advertising.lm_summary('Sales')"
   ]
  },
  {
   "cell_type": "code",
   "execution_count": 23,
   "metadata": {
    "collapsed": false
   },
   "outputs": [
    {
     "data": {
      "text/plain": [
       "556.82526290218721"
      ]
     },
     "execution_count": 23,
     "metadata": {},
     "output_type": "execute_result"
    }
   ],
   "source": [
    "advertising.RSS_model('Sales', adver_model)"
   ]
  },
  {
   "cell_type": "code",
   "execution_count": 24,
   "metadata": {
    "collapsed": false
   },
   "outputs": [
    {
     "data": {
      "text/plain": [
       "0.89721063817895219"
      ]
     },
     "execution_count": 24,
     "metadata": {},
     "output_type": "execute_result"
    }
   ],
   "source": [
    "advertising.R2_model('Sales', adver_model)"
   ]
  },
  {
   "cell_type": "markdown",
   "metadata": {},
   "source": [
    "## 3.2.2 Some Important questions\n",
    "\n",
    "1. Is at least one of the predictors X1 , X2 , . . . , Xp useful in predicting the response?\n",
    "2. Do all the predictors help to explain Y, or is only a subset of the predictors useful?\n",
    "3. How well does the model fit the data?\n",
    "4. Given a set of predictor values, what response value should we predict,\n",
    "and how accurate is our prediction?\n",
    "\n",
    "\n",
    "### Correlation matrix\n",
    "\n",
    "Above shows that spending on newspaper appears to have no effect on sales.  The apparent effect when looking at newspaper versus sales in isolation is capturing the tendency to spend more on newspaper when spending more on radio."
   ]
  },
  {
   "cell_type": "code",
   "execution_count": 25,
   "metadata": {
    "collapsed": false
   },
   "outputs": [
    {
     "data": {
      "text/html": [
       "<table border=\"1\" class=\"dataframe\">\n",
       "    <thead>\n",
       "        <tr>\n",
       "            <th>Param</th> <th>TV</th> <th>Radio</th> <th>Newspaper</th> <th>Sales</th>\n",
       "        </tr>\n",
       "    </thead>\n",
       "    <tbody>\n",
       "        <tr>\n",
       "            <td>TV       </td> <td>1        </td> <td>0.0548087</td> <td>0.0566479</td> <td>0.782224</td>\n",
       "        </tr>\n",
       "    </tbody>\n",
       "        <tr>\n",
       "            <td>Radio    </td> <td>0.0548087</td> <td>1        </td> <td>0.354104 </td> <td>0.576223</td>\n",
       "        </tr>\n",
       "    </tbody>\n",
       "        <tr>\n",
       "            <td>Newspaper</td> <td>0.0566479</td> <td>0.354104 </td> <td>1        </td> <td>0.228299</td>\n",
       "        </tr>\n",
       "    </tbody>\n",
       "        <tr>\n",
       "            <td>Sales    </td> <td>0.782224 </td> <td>0.576223 </td> <td>0.228299 </td> <td>1       </td>\n",
       "        </tr>\n",
       "    </tbody>\n",
       "</table>"
      ],
      "text/plain": [
       "Param     | TV        | Radio     | Newspaper | Sales\n",
       "TV        | 1         | 0.0548087 | 0.0566479 | 0.782224\n",
       "Radio     | 0.0548087 | 1         | 0.354104  | 0.576223\n",
       "Newspaper | 0.0566479 | 0.354104  | 1         | 0.228299\n",
       "Sales     | 0.782224  | 0.576223  | 0.228299  | 1"
      ]
     },
     "execution_count": 25,
     "metadata": {},
     "output_type": "execute_result"
    }
   ],
   "source": [
    "advertising.Cor()"
   ]
  },
  {
   "cell_type": "markdown",
   "metadata": {},
   "source": [
    "### F-statistic\n",
    "\n",
    "$F = \\frac{(TSS - RSS)/p}{RSS/(n - p - 1)}$\n",
    "\n",
    "When there is no relationship between the response and predictors, one would expect the F-statistic to take on a value close to 1. On the other hand, if Ha is true, then E{(TSS − RSS)/p} > σ2, so we expect F to be greater than 1."
   ]
  },
  {
   "cell_type": "code",
   "execution_count": 26,
   "metadata": {
    "collapsed": false
   },
   "outputs": [
    {
     "data": {
      "text/plain": [
       "570.27070365909424"
      ]
     },
     "execution_count": 26,
     "metadata": {},
     "output_type": "execute_result"
    }
   ],
   "source": [
    "advertising.F_model('Sales', adver_model)"
   ]
  },
  {
   "cell_type": "code",
   "execution_count": 27,
   "metadata": {
    "collapsed": false
   },
   "outputs": [
    {
     "data": {
      "text/html": [
       "<table border=\"1\" class=\"dataframe\">\n",
       "    <thead>\n",
       "        <tr>\n",
       "            <th>Quantity</th> <th>Value</th>\n",
       "        </tr>\n",
       "    </thead>\n",
       "    <tbody>\n",
       "        <tr>\n",
       "            <td>Residual standard error</td> <td>1.67698 </td>\n",
       "        </tr>\n",
       "    </tbody>\n",
       "        <tr>\n",
       "            <td>R^2                    </td> <td>0.897211</td>\n",
       "        </tr>\n",
       "    </tbody>\n",
       "        <tr>\n",
       "            <td>F-statistic            </td> <td>570.271 </td>\n",
       "        </tr>\n",
       "    </tbody>\n",
       "</table>"
      ],
      "text/plain": [
       "Quantity                | Value\n",
       "Residual standard error | 1.67698\n",
       "R^2                     | 0.897211\n",
       "F-statistic             | 570.271"
      ]
     },
     "execution_count": 27,
     "metadata": {},
     "output_type": "execute_result"
    }
   ],
   "source": [
    "advertising.lm_fit('Sales', adver_model)"
   ]
  },
  {
   "cell_type": "code",
   "execution_count": 29,
   "metadata": {
    "collapsed": false
   },
   "outputs": [
    {
     "data": {
      "text/html": [
       "<table border=\"1\" class=\"dataframe\">\n",
       "    <thead>\n",
       "        <tr>\n",
       "            <th>Quantity</th> <th>Value</th>\n",
       "        </tr>\n",
       "    </thead>\n",
       "    <tbody>\n",
       "        <tr>\n",
       "            <td>Residual standard error</td> <td>3.25866 </td>\n",
       "        </tr>\n",
       "    </tbody>\n",
       "        <tr>\n",
       "            <td>R^2                    </td> <td>0.611875</td>\n",
       "        </tr>\n",
       "    </tbody>\n",
       "        <tr>\n",
       "            <td>F-statistic            </td> <td>312.145 </td>\n",
       "        </tr>\n",
       "    </tbody>\n",
       "</table>"
      ],
      "text/plain": [
       "Quantity                | Value\n",
       "Residual standard error | 3.25866\n",
       "R^2                     | 0.611875\n",
       "F-statistic             | 312.145"
      ]
     },
     "execution_count": 29,
     "metadata": {},
     "output_type": "execute_result"
    }
   ],
   "source": [
    "# Using this tool for the 1D model within the table\n",
    "advertising.lm_fit('Sales', advertising.regression_1d('Sales', 'TV'), 'TV')"
   ]
  },
  {
   "cell_type": "markdown",
   "metadata": {},
   "source": [
    "Sometimes we want to test that a particular subset of q of the coefficients are zero. This corresponds to a null hypothesis\n",
    "\n",
    "H0 : $β_{p−q+1} =β_{p−q+2} =...=β_{p} =0$\n",
    "\n",
    "where for convenience we have put the variables chosen for omission at the end of the list. In this case we fit a second model that uses all the variables except those last q. Suppose that the residual sum of squares for that model is $RSS_0$. Then the appropriate F-statistic is\n",
    "\n",
    "$F = \\frac{(RSS_0 − RSS)/q}{RSS/(n−p−1)}$."
   ]
  },
  {
   "cell_type": "code",
   "execution_count": 33,
   "metadata": {
    "collapsed": false
   },
   "outputs": [
    {
     "data": {
      "text/html": [
       "<table border=\"1\" class=\"dataframe\">\n",
       "    <thead>\n",
       "        <tr>\n",
       "            <th>Quantity</th> <th>Value</th>\n",
       "        </tr>\n",
       "    </thead>\n",
       "    <tbody>\n",
       "        <tr>\n",
       "            <td>Residual standard error</td> <td>1.67711 </td>\n",
       "        </tr>\n",
       "    </tbody>\n",
       "        <tr>\n",
       "            <td>R^2                    </td> <td>0.897194</td>\n",
       "        </tr>\n",
       "    </tbody>\n",
       "        <tr>\n",
       "            <td>F-statistic            </td> <td>859.618 </td>\n",
       "        </tr>\n",
       "    </tbody>\n",
       "</table>"
      ],
      "text/plain": [
       "Quantity                | Value\n",
       "Residual standard error | 1.67711\n",
       "R^2                     | 0.897194\n",
       "F-statistic             | 859.618"
      ]
     },
     "execution_count": 33,
     "metadata": {},
     "output_type": "execute_result"
    }
   ],
   "source": [
    "ad2_model = ad2.regression('Sales')\n",
    "ad2.lm_fit('Sales', ad2_model)"
   ]
  },
  {
   "cell_type": "code",
   "execution_count": 34,
   "metadata": {
    "collapsed": false
   },
   "outputs": [
    {
     "data": {
      "text/plain": [
       "0.00045263859913851387"
      ]
     },
     "execution_count": 34,
     "metadata": {},
     "output_type": "execute_result"
    }
   ],
   "source": [
    "RSS0 = ad2.RSS_model('Sales', ad2_model)\n",
    "RSS = advertising.RSS_model('Sales', adver_model)\n",
    "((RSS0 - RSS)/1)/(advertising.num_rows - 3 - 1)"
   ]
  },
  {
   "cell_type": "code",
   "execution_count": null,
   "metadata": {
    "collapsed": true
   },
   "outputs": [],
   "source": []
  }
 ],
 "metadata": {
  "kernelspec": {
   "display_name": "Python 3",
   "language": "python",
   "name": "python3"
  },
  "language_info": {
   "codemirror_mode": {
    "name": "ipython",
    "version": 3
   },
   "file_extension": ".py",
   "mimetype": "text/x-python",
   "name": "python",
   "nbconvert_exporter": "python",
   "pygments_lexer": "ipython3",
   "version": "3.5.2"
  }
 },
 "nbformat": 4,
 "nbformat_minor": 0
}
